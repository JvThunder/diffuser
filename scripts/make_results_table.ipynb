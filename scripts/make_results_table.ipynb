{
 "cells": [
  {
   "cell_type": "code",
   "execution_count": 2,
   "metadata": {},
   "outputs": [],
   "source": [
    "import pandas as pd"
   ]
  },
  {
   "cell_type": "code",
   "execution_count": 3,
   "metadata": {},
   "outputs": [],
   "source": [
    "folder = '../logs/cond_a/hopper-medium-replay-v2/plans/'"
   ]
  },
  {
   "cell_type": "code",
   "execution_count": 6,
   "metadata": {},
   "outputs": [],
   "source": [
    "# get all the file names\n",
    "import os\n",
    "import json\n",
    "subfolders = os.listdir(folder)\n",
    "\n",
    "# format of subfolders H{}_T{}_d{}.w{}\n",
    "\n",
    "horizon_list = [8, 16, 32, 64]\n",
    "w_list = [0.5, 0.7, 1.5, 2.0, 4.0, 6.0]\n",
    "\n",
    "table = []\n",
    "for w in w_list:\n",
    "    row = []\n",
    "    for h in horizon_list:\n",
    "        subfolder = f'H{h}_T20_d0.99_w{w}'\n",
    "        file = os.path.join(folder, subfolder, 'rollout.json')\n",
    "        if os.path.exists(file):\n",
    "            # read and parse json\n",
    "            json_data = open(file).read()\n",
    "            data = json.loads(json_data)\n",
    "            row.append(data['mean_return'])\n",
    "    table.append(row)"
   ]
  },
  {
   "cell_type": "code",
   "execution_count": 7,
   "metadata": {},
   "outputs": [
    {
     "data": {
      "text/html": [
       "<div>\n",
       "<style scoped>\n",
       "    .dataframe tbody tr th:only-of-type {\n",
       "        vertical-align: middle;\n",
       "    }\n",
       "\n",
       "    .dataframe tbody tr th {\n",
       "        vertical-align: top;\n",
       "    }\n",
       "\n",
       "    .dataframe thead th {\n",
       "        text-align: right;\n",
       "    }\n",
       "</style>\n",
       "<table border=\"1\" class=\"dataframe\">\n",
       "  <thead>\n",
       "    <tr style=\"text-align: right;\">\n",
       "      <th></th>\n",
       "      <th>8</th>\n",
       "      <th>16</th>\n",
       "      <th>32</th>\n",
       "      <th>64</th>\n",
       "    </tr>\n",
       "  </thead>\n",
       "  <tbody>\n",
       "    <tr>\n",
       "      <th>0.5</th>\n",
       "      <td>1487.950161</td>\n",
       "      <td>1446.123481</td>\n",
       "      <td>1324.168619</td>\n",
       "      <td>480.897857</td>\n",
       "    </tr>\n",
       "    <tr>\n",
       "      <th>0.7</th>\n",
       "      <td>1719.733657</td>\n",
       "      <td>1311.818365</td>\n",
       "      <td>1646.950831</td>\n",
       "      <td>341.844916</td>\n",
       "    </tr>\n",
       "    <tr>\n",
       "      <th>1.5</th>\n",
       "      <td>2427.214676</td>\n",
       "      <td>1242.443184</td>\n",
       "      <td>2295.270690</td>\n",
       "      <td>1097.194337</td>\n",
       "    </tr>\n",
       "    <tr>\n",
       "      <th>2.0</th>\n",
       "      <td>2567.000950</td>\n",
       "      <td>1159.548484</td>\n",
       "      <td>2499.294749</td>\n",
       "      <td>414.490396</td>\n",
       "    </tr>\n",
       "    <tr>\n",
       "      <th>4.0</th>\n",
       "      <td>2335.607581</td>\n",
       "      <td>1175.547433</td>\n",
       "      <td>2189.394125</td>\n",
       "      <td>29.278114</td>\n",
       "    </tr>\n",
       "    <tr>\n",
       "      <th>6.0</th>\n",
       "      <td>1576.483382</td>\n",
       "      <td>765.690073</td>\n",
       "      <td>1271.400476</td>\n",
       "      <td>162.557851</td>\n",
       "    </tr>\n",
       "  </tbody>\n",
       "</table>\n",
       "</div>"
      ],
      "text/plain": [
       "              8            16           32           64\n",
       "0.5  1487.950161  1446.123481  1324.168619   480.897857\n",
       "0.7  1719.733657  1311.818365  1646.950831   341.844916\n",
       "1.5  2427.214676  1242.443184  2295.270690  1097.194337\n",
       "2.0  2567.000950  1159.548484  2499.294749   414.490396\n",
       "4.0  2335.607581  1175.547433  2189.394125    29.278114\n",
       "6.0  1576.483382   765.690073  1271.400476   162.557851"
      ]
     },
     "execution_count": 7,
     "metadata": {},
     "output_type": "execute_result"
    }
   ],
   "source": [
    "# make table to pandas\n",
    "df = pd.DataFrame(table, index=w_list, columns=horizon_list)\n",
    "df.head(20)"
   ]
  },
  {
   "cell_type": "code",
   "execution_count": 14,
   "metadata": {},
   "outputs": [],
   "source": [
    "# save to csv\n",
    "df.to_csv('hopper-medium-replay-v2-results.csv')"
   ]
  },
  {
   "cell_type": "code",
   "execution_count": null,
   "metadata": {},
   "outputs": [],
   "source": []
  }
 ],
 "metadata": {
  "kernelspec": {
   "display_name": "diffuser",
   "language": "python",
   "name": "python3"
  },
  "language_info": {
   "codemirror_mode": {
    "name": "ipython",
    "version": 3
   },
   "file_extension": ".py",
   "mimetype": "text/x-python",
   "name": "python",
   "nbconvert_exporter": "python",
   "pygments_lexer": "ipython3",
   "version": "3.8.10"
  }
 },
 "nbformat": 4,
 "nbformat_minor": 2
}
