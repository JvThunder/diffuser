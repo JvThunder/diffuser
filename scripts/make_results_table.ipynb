{
 "cells": [
  {
   "cell_type": "code",
   "execution_count": 1,
   "metadata": {},
   "outputs": [],
   "source": [
    "import pandas as pd"
   ]
  },
  {
   "cell_type": "code",
   "execution_count": 3,
   "metadata": {},
   "outputs": [],
   "source": [
    "folder = '../logs/cond_a/hopper-medium-replay-v2/plans/'"
   ]
  },
  {
   "cell_type": "code",
   "execution_count": 8,
   "metadata": {},
   "outputs": [],
   "source": [
    "# get all the file names\n",
    "import os\n",
    "import json\n",
    "subfolders = os.listdir(folder)\n",
    "\n",
    "# format of subfolders H{}_T{}_d{}.w{}\n",
    "\n",
    "horizon_list = [8, 16, 32, 64]\n",
    "w_list = [0.5, 0.7, 1.5, 2.0, 3.0, 4.0, 6.0, 10.0]\n",
    "\n",
    "table = []\n",
    "for w in w_list:\n",
    "    row = []\n",
    "    for h in horizon_list:\n",
    "        subfolder = f'H{h}_T20_d0.99_w{w}'\n",
    "        file = os.path.join(folder, subfolder, 'rollout.json')\n",
    "        if os.path.exists(file):\n",
    "            # read and parse json\n",
    "            json_data = open(file).read()\n",
    "            data = json.loads(json_data)\n",
    "            row.append(data['mean_return'])\n",
    "    table.append(row)"
   ]
  },
  {
   "cell_type": "code",
   "execution_count": 13,
   "metadata": {},
   "outputs": [
    {
     "data": {
      "text/html": [
       "<div>\n",
       "<style scoped>\n",
       "    .dataframe tbody tr th:only-of-type {\n",
       "        vertical-align: middle;\n",
       "    }\n",
       "\n",
       "    .dataframe tbody tr th {\n",
       "        vertical-align: top;\n",
       "    }\n",
       "\n",
       "    .dataframe thead th {\n",
       "        text-align: right;\n",
       "    }\n",
       "</style>\n",
       "<table border=\"1\" class=\"dataframe\">\n",
       "  <thead>\n",
       "    <tr style=\"text-align: right;\">\n",
       "      <th></th>\n",
       "      <th>8</th>\n",
       "      <th>16</th>\n",
       "      <th>32</th>\n",
       "      <th>64</th>\n",
       "    </tr>\n",
       "  </thead>\n",
       "  <tbody>\n",
       "    <tr>\n",
       "      <th>0.5</th>\n",
       "      <td>769.537609</td>\n",
       "      <td>735.579044</td>\n",
       "      <td>1148.707278</td>\n",
       "      <td>1141.698639</td>\n",
       "    </tr>\n",
       "    <tr>\n",
       "      <th>0.7</th>\n",
       "      <td>798.661330</td>\n",
       "      <td>775.538769</td>\n",
       "      <td>1416.159683</td>\n",
       "      <td>1485.939481</td>\n",
       "    </tr>\n",
       "    <tr>\n",
       "      <th>1.5</th>\n",
       "      <td>550.381855</td>\n",
       "      <td>747.365109</td>\n",
       "      <td>2395.027529</td>\n",
       "      <td>1908.710248</td>\n",
       "    </tr>\n",
       "    <tr>\n",
       "      <th>2.0</th>\n",
       "      <td>492.191100</td>\n",
       "      <td>722.418888</td>\n",
       "      <td>2589.146423</td>\n",
       "      <td>1268.326679</td>\n",
       "    </tr>\n",
       "    <tr>\n",
       "      <th>3.0</th>\n",
       "      <td>289.000362</td>\n",
       "      <td>794.467430</td>\n",
       "      <td>2820.623687</td>\n",
       "      <td>1111.688120</td>\n",
       "    </tr>\n",
       "    <tr>\n",
       "      <th>4.0</th>\n",
       "      <td>240.289674</td>\n",
       "      <td>719.868262</td>\n",
       "      <td>2953.472734</td>\n",
       "      <td>1152.117153</td>\n",
       "    </tr>\n",
       "    <tr>\n",
       "      <th>6.0</th>\n",
       "      <td>122.935236</td>\n",
       "      <td>483.940108</td>\n",
       "      <td>3120.244097</td>\n",
       "      <td>343.952210</td>\n",
       "    </tr>\n",
       "    <tr>\n",
       "      <th>10.0</th>\n",
       "      <td>0.984537</td>\n",
       "      <td>275.299709</td>\n",
       "      <td>3051.928323</td>\n",
       "      <td>34.331088</td>\n",
       "    </tr>\n",
       "  </tbody>\n",
       "</table>\n",
       "</div>"
      ],
      "text/plain": [
       "              8           16           32           64\n",
       "0.5   769.537609  735.579044  1148.707278  1141.698639\n",
       "0.7   798.661330  775.538769  1416.159683  1485.939481\n",
       "1.5   550.381855  747.365109  2395.027529  1908.710248\n",
       "2.0   492.191100  722.418888  2589.146423  1268.326679\n",
       "3.0   289.000362  794.467430  2820.623687  1111.688120\n",
       "4.0   240.289674  719.868262  2953.472734  1152.117153\n",
       "6.0   122.935236  483.940108  3120.244097   343.952210\n",
       "10.0    0.984537  275.299709  3051.928323    34.331088"
      ]
     },
     "execution_count": 13,
     "metadata": {},
     "output_type": "execute_result"
    }
   ],
   "source": [
    "# make table to pandas\n",
    "df = pd.DataFrame(table, index=w_list, columns=horizon_list)\n",
    "df.head(20)"
   ]
  },
  {
   "cell_type": "code",
   "execution_count": 14,
   "metadata": {},
   "outputs": [],
   "source": [
    "# save to csv\n",
    "df.to_csv('hopper-medium-replay-v2-results.csv')"
   ]
  },
  {
   "cell_type": "code",
   "execution_count": null,
   "metadata": {},
   "outputs": [],
   "source": []
  }
 ],
 "metadata": {
  "kernelspec": {
   "display_name": "diffuser",
   "language": "python",
   "name": "python3"
  },
  "language_info": {
   "codemirror_mode": {
    "name": "ipython",
    "version": 3
   },
   "file_extension": ".py",
   "mimetype": "text/x-python",
   "name": "python",
   "nbconvert_exporter": "python",
   "pygments_lexer": "ipython3",
   "version": "3.8.19"
  }
 },
 "nbformat": 4,
 "nbformat_minor": 2
}
