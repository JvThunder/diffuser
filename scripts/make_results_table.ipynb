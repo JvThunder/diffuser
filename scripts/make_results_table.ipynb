{
 "cells": [
  {
   "cell_type": "code",
   "execution_count": 1,
   "metadata": {},
   "outputs": [],
   "source": [
    "import pandas as pd"
   ]
  },
  {
   "cell_type": "code",
   "execution_count": 2,
   "metadata": {},
   "outputs": [],
   "source": [
    "folder = '../logs/cond_a/walker2d-medium-replay-v2/plans/'"
   ]
  },
  {
   "cell_type": "code",
   "execution_count": 3,
   "metadata": {},
   "outputs": [],
   "source": [
    "# get all the file names\n",
    "import os\n",
    "import json\n",
    "subfolders = os.listdir(folder)\n",
    "\n",
    "# format of subfolders H{}_T{}_d{}.w{}\n",
    "\n",
    "horizon_list = [8, 16, 32, 64]\n",
    "w_list = [0.5, 0.7, 1.5, 2.0, 4.0, 6.0]\n",
    "\n",
    "table = []\n",
    "for w in w_list:\n",
    "    row = []\n",
    "    for h in horizon_list:\n",
    "        subfolder = f'H{h}_T20_d0.99_w{w}'\n",
    "        file = os.path.join(folder, subfolder, 'rollout.json')\n",
    "        if os.path.exists(file):\n",
    "            # read and parse json\n",
    "            json_data = open(file).read()\n",
    "            data = json.loads(json_data)\n",
    "            row.append(data['mean_return'])\n",
    "    table.append(row)"
   ]
  },
  {
   "cell_type": "code",
   "execution_count": 4,
   "metadata": {},
   "outputs": [
    {
     "data": {
      "text/html": [
       "<div>\n",
       "<style scoped>\n",
       "    .dataframe tbody tr th:only-of-type {\n",
       "        vertical-align: middle;\n",
       "    }\n",
       "\n",
       "    .dataframe tbody tr th {\n",
       "        vertical-align: top;\n",
       "    }\n",
       "\n",
       "    .dataframe thead th {\n",
       "        text-align: right;\n",
       "    }\n",
       "</style>\n",
       "<table border=\"1\" class=\"dataframe\">\n",
       "  <thead>\n",
       "    <tr style=\"text-align: right;\">\n",
       "      <th></th>\n",
       "      <th>8</th>\n",
       "      <th>16</th>\n",
       "      <th>32</th>\n",
       "      <th>64</th>\n",
       "    </tr>\n",
       "  </thead>\n",
       "  <tbody>\n",
       "    <tr>\n",
       "      <th>0.5</th>\n",
       "      <td>1087.902093</td>\n",
       "      <td>1354.496149</td>\n",
       "      <td>1958.212744</td>\n",
       "      <td>1964.418730</td>\n",
       "    </tr>\n",
       "    <tr>\n",
       "      <th>0.7</th>\n",
       "      <td>1191.831867</td>\n",
       "      <td>1466.172273</td>\n",
       "      <td>1888.947184</td>\n",
       "      <td>2313.234284</td>\n",
       "    </tr>\n",
       "    <tr>\n",
       "      <th>1.5</th>\n",
       "      <td>806.989277</td>\n",
       "      <td>820.957379</td>\n",
       "      <td>1563.296419</td>\n",
       "      <td>2037.917892</td>\n",
       "    </tr>\n",
       "    <tr>\n",
       "      <th>2.0</th>\n",
       "      <td>573.468987</td>\n",
       "      <td>639.154952</td>\n",
       "      <td>1558.960623</td>\n",
       "      <td>1593.678112</td>\n",
       "    </tr>\n",
       "    <tr>\n",
       "      <th>4.0</th>\n",
       "      <td>269.062899</td>\n",
       "      <td>501.696380</td>\n",
       "      <td>736.627741</td>\n",
       "      <td>671.404735</td>\n",
       "    </tr>\n",
       "    <tr>\n",
       "      <th>6.0</th>\n",
       "      <td>91.135866</td>\n",
       "      <td>348.350707</td>\n",
       "      <td>312.981706</td>\n",
       "      <td>491.723371</td>\n",
       "    </tr>\n",
       "  </tbody>\n",
       "</table>\n",
       "</div>"
      ],
      "text/plain": [
       "              8            16           32           64\n",
       "0.5  1087.902093  1354.496149  1958.212744  1964.418730\n",
       "0.7  1191.831867  1466.172273  1888.947184  2313.234284\n",
       "1.5   806.989277   820.957379  1563.296419  2037.917892\n",
       "2.0   573.468987   639.154952  1558.960623  1593.678112\n",
       "4.0   269.062899   501.696380   736.627741   671.404735\n",
       "6.0    91.135866   348.350707   312.981706   491.723371"
      ]
     },
     "execution_count": 4,
     "metadata": {},
     "output_type": "execute_result"
    }
   ],
   "source": [
    "# make table to pandas\n",
    "df = pd.DataFrame(table, index=w_list, columns=horizon_list)\n",
    "df.head(20)"
   ]
  },
  {
   "cell_type": "code",
   "execution_count": 5,
   "metadata": {},
   "outputs": [],
   "source": [
    "# save to csv\n",
    "df.to_csv('walker2d-medium-replay-v2-results.csv')"
   ]
  },
  {
   "cell_type": "code",
   "execution_count": null,
   "metadata": {},
   "outputs": [],
   "source": []
  }
 ],
 "metadata": {
  "kernelspec": {
   "display_name": "diffuser",
   "language": "python",
   "name": "python3"
  },
  "language_info": {
   "codemirror_mode": {
    "name": "ipython",
    "version": 3
   },
   "file_extension": ".py",
   "mimetype": "text/x-python",
   "name": "python",
   "nbconvert_exporter": "python",
   "pygments_lexer": "ipython3",
   "version": "3.8.19"
  }
 },
 "nbformat": 4,
 "nbformat_minor": 2
}
